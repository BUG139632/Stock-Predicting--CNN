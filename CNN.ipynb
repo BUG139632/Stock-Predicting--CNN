def split_windows(data,size):
    X=[]
    Y=[]
    for i in range(len(data)-size):
        X.append(data[i:i+size,:])
        Y.append(data[i+size,-1])
    return np.array(X),np.array(Y)

//get data
df=pd.read_csv('.filename',usecols=['Open','High','Close','Low',...])
all_data=df.values
train_len=600
train_data=all_data[:train_len,:]
test_data=all_data[train_len:,:]

//show the overview of the data
plt.figure(figsize=(12,8))
plt.plot(np.arange(train_data.shape[0]),train_data[:,2],label='train data')
plt.plot(np.arange(train_data.shape[0],train_data.shape[0]+test_data.shape[0]),test_data[:,2],label='test data')
plt.legend()
plt.show()

scaler=MinMaxScaler()
scaled_train_data=scaler.fit_transform(train_data)
scaled_test_data=scaler.transform(test_data)

//split data set
window_size=10
train_X,train_Y=split_windows(scaled_train_data,size=window_size)
test_X,test_Y=split_windows(scaled_test_data,size=window_size)
print('train shape',train_X.shape,train_Y.shape)
print('test shape',test_X.shape,test_Y.shape)

//construct CNN model
window_size=10
fea_num=14
model=keras.models.Sequential([
    keras.layers.Input((window_size,fea_num)),
    keras.layers.Conv1D(filters=64,kernel_size=3,strides=1,padding="same",activation="relu"),
    keras.layers.MaxPooling1D(pool_size=2,strides=1,padding="same"),
    keras.layers.Dropout(0.2),
    keras.layers.Conv1D(filters=32,kernel_size=3,strides=1,padding="same",activation="relu"),
    keras.layers.MaxPooling1D(pool_size=2,strides=1,padding="same"),
    keras.layers.Flatten(), 
    keras.layers.Dense(1)
])
model.compile(loss='mse',optimizer='adam',metrics=['mse'])
model.summary()

//train the model
model.fit(x=train_X,y=train_Y,epochs=50)

//get prediction result
prediction=model.predict(test_X)
scaled_prediction=prediction*(scaler.data_max_[-1]-scaler.data_min_[-1])+scaler.data_min_[-1]
scaled_true=test_Y*(scaler.data_max_[-1]-scaler.data_min_[-1])+scaler.data_min_[-1]
plt.plot(range(len(scaled_prediction)),scaled_prediction,label='Prediction')
plt.plot(range(len(scaled_true)),scaled_true,label='True')
plt.title('Test data',y=-0.2)
plt.legend()
plt.show()

from sklearn import metrics

def mape(y_true, y_pred):
    return np.mean(np.abs((y_pred - y_true) / y_true)) * 100

print("MSE",metrics.mean_squared_error(test_Y, prediction))
print("RMSE",np.sqrt(metrics.mean_squared_error(test_Y, prediction)))
print("MAE",metrics.mean_absolute_error(test_Y, prediction))
print("MAPE",mape(test_Y, prediction))
